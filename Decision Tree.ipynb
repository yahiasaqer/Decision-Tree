{
 "cells": [
  {
   "cell_type": "code",
   "execution_count": 1,
   "metadata": {},
   "outputs": [],
   "source": [
    "#Importing the important libraries: pandas and NumPy\n",
    "import numpy as np \n",
    "import pandas as pd"
   ]
  },
  {
   "cell_type": "code",
   "execution_count": 2,
   "metadata": {},
   "outputs": [
    {
     "name": "stdout",
     "output_type": "stream",
     "text": [
      "df.head:     buying  maint  doors  persons  lug_boot  safety  classes\n",
      "0       1      1      1        1         1       2        1\n",
      "1       1      1      1        1         1       3        1\n",
      "2       1      1      1        1         2       1        1\n",
      "3       1      1      1        1         2       2        1\n",
      "4       1      1      1        1         2       3        1\n"
     ]
    }
   ],
   "source": [
    "#Reading the data file\n",
    "df = pd.read_csv('car_evaluation.csv')\n",
    "\n",
    "\n",
    "# Assign names to Columns to get rid off the categorical values\n",
    "df.columns = ['buying','maint','doors','persons','lug_boot','safety','classes']\n",
    "\n",
    "# Encode Data\n",
    "df.buying.replace(('vhigh','high','med','low'),(1,2,3,4), inplace=True)\n",
    "df.maint.replace(('vhigh','high','med','low'),(1,2,3,4), inplace=True)\n",
    "df.doors.replace(('2','3','4','5more'),(1,2,3,4), inplace=True)\n",
    "df.persons.replace(('2','4','more'),(1,2,3), inplace=True)\n",
    "df.lug_boot.replace(('small','med','big'),(1,2,3), inplace=True)\n",
    "df.safety.replace(('low','med','high'),(1,2,3), inplace=True)\n",
    "df.classes.replace(('unacc','acc','good','vgood'),(1,2,3,4), inplace=True)\n",
    "print(\"df.head: \", df.head())"
   ]
  },
  {
   "cell_type": "code",
   "execution_count": 3,
   "metadata": {},
   "outputs": [
    {
     "data": {
      "text/html": [
       "<div>\n",
       "<style scoped>\n",
       "    .dataframe tbody tr th:only-of-type {\n",
       "        vertical-align: middle;\n",
       "    }\n",
       "\n",
       "    .dataframe tbody tr th {\n",
       "        vertical-align: top;\n",
       "    }\n",
       "\n",
       "    .dataframe thead th {\n",
       "        text-align: right;\n",
       "    }\n",
       "</style>\n",
       "<table border=\"1\" class=\"dataframe\">\n",
       "  <thead>\n",
       "    <tr style=\"text-align: right;\">\n",
       "      <th></th>\n",
       "      <th>count</th>\n",
       "      <th>mean</th>\n",
       "      <th>std</th>\n",
       "      <th>min</th>\n",
       "      <th>25%</th>\n",
       "      <th>50%</th>\n",
       "      <th>75%</th>\n",
       "      <th>max</th>\n",
       "    </tr>\n",
       "  </thead>\n",
       "  <tbody>\n",
       "    <tr>\n",
       "      <th>buying</th>\n",
       "      <td>1727.0</td>\n",
       "      <td>2.500869</td>\n",
       "      <td>1.118098</td>\n",
       "      <td>1.0</td>\n",
       "      <td>2.0</td>\n",
       "      <td>3.0</td>\n",
       "      <td>3.5</td>\n",
       "      <td>4.0</td>\n",
       "    </tr>\n",
       "    <tr>\n",
       "      <th>maint</th>\n",
       "      <td>1727.0</td>\n",
       "      <td>2.500869</td>\n",
       "      <td>1.118098</td>\n",
       "      <td>1.0</td>\n",
       "      <td>2.0</td>\n",
       "      <td>3.0</td>\n",
       "      <td>3.5</td>\n",
       "      <td>4.0</td>\n",
       "    </tr>\n",
       "    <tr>\n",
       "      <th>doors</th>\n",
       "      <td>1727.0</td>\n",
       "      <td>2.500869</td>\n",
       "      <td>1.118098</td>\n",
       "      <td>1.0</td>\n",
       "      <td>2.0</td>\n",
       "      <td>3.0</td>\n",
       "      <td>3.5</td>\n",
       "      <td>4.0</td>\n",
       "    </tr>\n",
       "    <tr>\n",
       "      <th>persons</th>\n",
       "      <td>1727.0</td>\n",
       "      <td>2.000579</td>\n",
       "      <td>0.816615</td>\n",
       "      <td>1.0</td>\n",
       "      <td>1.0</td>\n",
       "      <td>2.0</td>\n",
       "      <td>3.0</td>\n",
       "      <td>3.0</td>\n",
       "    </tr>\n",
       "    <tr>\n",
       "      <th>lug_boot</th>\n",
       "      <td>1727.0</td>\n",
       "      <td>2.000579</td>\n",
       "      <td>0.816615</td>\n",
       "      <td>1.0</td>\n",
       "      <td>1.0</td>\n",
       "      <td>2.0</td>\n",
       "      <td>3.0</td>\n",
       "      <td>3.0</td>\n",
       "    </tr>\n",
       "    <tr>\n",
       "      <th>safety</th>\n",
       "      <td>1727.0</td>\n",
       "      <td>2.000579</td>\n",
       "      <td>0.816615</td>\n",
       "      <td>1.0</td>\n",
       "      <td>1.0</td>\n",
       "      <td>2.0</td>\n",
       "      <td>3.0</td>\n",
       "      <td>3.0</td>\n",
       "    </tr>\n",
       "    <tr>\n",
       "      <th>classes</th>\n",
       "      <td>1727.0</td>\n",
       "      <td>1.415171</td>\n",
       "      <td>0.740847</td>\n",
       "      <td>1.0</td>\n",
       "      <td>1.0</td>\n",
       "      <td>1.0</td>\n",
       "      <td>2.0</td>\n",
       "      <td>4.0</td>\n",
       "    </tr>\n",
       "  </tbody>\n",
       "</table>\n",
       "</div>"
      ],
      "text/plain": [
       "           count      mean       std  min  25%  50%  75%  max\n",
       "buying    1727.0  2.500869  1.118098  1.0  2.0  3.0  3.5  4.0\n",
       "maint     1727.0  2.500869  1.118098  1.0  2.0  3.0  3.5  4.0\n",
       "doors     1727.0  2.500869  1.118098  1.0  2.0  3.0  3.5  4.0\n",
       "persons   1727.0  2.000579  0.816615  1.0  1.0  2.0  3.0  3.0\n",
       "lug_boot  1727.0  2.000579  0.816615  1.0  1.0  2.0  3.0  3.0\n",
       "safety    1727.0  2.000579  0.816615  1.0  1.0  2.0  3.0  3.0\n",
       "classes   1727.0  1.415171  0.740847  1.0  1.0  1.0  2.0  4.0"
      ]
     },
     "execution_count": 3,
     "metadata": {},
     "output_type": "execute_result"
    }
   ],
   "source": [
    "#showing the specs, and replacing the rows and columns\n",
    "df.describe().transpose()\n"
   ]
  },
  {
   "cell_type": "code",
   "execution_count": 4,
   "metadata": {},
   "outputs": [],
   "source": [
    "atts = df.drop('classes', axis = 1) # all of df\n",
    "target = df['classes'] # the classes only"
   ]
  },
  {
   "cell_type": "code",
   "execution_count": 5,
   "metadata": {},
   "outputs": [
    {
     "data": {
      "text/html": [
       "<div>\n",
       "<style scoped>\n",
       "    .dataframe tbody tr th:only-of-type {\n",
       "        vertical-align: middle;\n",
       "    }\n",
       "\n",
       "    .dataframe tbody tr th {\n",
       "        vertical-align: top;\n",
       "    }\n",
       "\n",
       "    .dataframe thead th {\n",
       "        text-align: right;\n",
       "    }\n",
       "</style>\n",
       "<table border=\"1\" class=\"dataframe\">\n",
       "  <thead>\n",
       "    <tr style=\"text-align: right;\">\n",
       "      <th></th>\n",
       "      <th>buying</th>\n",
       "      <th>maint</th>\n",
       "      <th>doors</th>\n",
       "      <th>persons</th>\n",
       "      <th>lug_boot</th>\n",
       "      <th>safety</th>\n",
       "    </tr>\n",
       "  </thead>\n",
       "  <tbody>\n",
       "    <tr>\n",
       "      <th>192</th>\n",
       "      <td>1</td>\n",
       "      <td>2</td>\n",
       "      <td>4</td>\n",
       "      <td>1</td>\n",
       "      <td>2</td>\n",
       "      <td>2</td>\n",
       "    </tr>\n",
       "    <tr>\n",
       "      <th>333</th>\n",
       "      <td>1</td>\n",
       "      <td>4</td>\n",
       "      <td>1</td>\n",
       "      <td>2</td>\n",
       "      <td>1</td>\n",
       "      <td>2</td>\n",
       "    </tr>\n",
       "    <tr>\n",
       "      <th>1420</th>\n",
       "      <td>4</td>\n",
       "      <td>2</td>\n",
       "      <td>1</td>\n",
       "      <td>2</td>\n",
       "      <td>3</td>\n",
       "      <td>3</td>\n",
       "    </tr>\n",
       "    <tr>\n",
       "      <th>1259</th>\n",
       "      <td>3</td>\n",
       "      <td>4</td>\n",
       "      <td>3</td>\n",
       "      <td>3</td>\n",
       "      <td>1</td>\n",
       "      <td>1</td>\n",
       "    </tr>\n",
       "    <tr>\n",
       "      <th>1407</th>\n",
       "      <td>4</td>\n",
       "      <td>2</td>\n",
       "      <td>1</td>\n",
       "      <td>1</td>\n",
       "      <td>2</td>\n",
       "      <td>2</td>\n",
       "    </tr>\n",
       "    <tr>\n",
       "      <th>681</th>\n",
       "      <td>2</td>\n",
       "      <td>3</td>\n",
       "      <td>2</td>\n",
       "      <td>1</td>\n",
       "      <td>3</td>\n",
       "      <td>2</td>\n",
       "    </tr>\n",
       "    <tr>\n",
       "      <th>1055</th>\n",
       "      <td>3</td>\n",
       "      <td>2</td>\n",
       "      <td>4</td>\n",
       "      <td>1</td>\n",
       "      <td>2</td>\n",
       "      <td>1</td>\n",
       "    </tr>\n",
       "    <tr>\n",
       "      <th>582</th>\n",
       "      <td>2</td>\n",
       "      <td>2</td>\n",
       "      <td>2</td>\n",
       "      <td>2</td>\n",
       "      <td>3</td>\n",
       "      <td>2</td>\n",
       "    </tr>\n",
       "    <tr>\n",
       "      <th>1591</th>\n",
       "      <td>4</td>\n",
       "      <td>3</td>\n",
       "      <td>3</td>\n",
       "      <td>3</td>\n",
       "      <td>3</td>\n",
       "      <td>3</td>\n",
       "    </tr>\n",
       "    <tr>\n",
       "      <th>1663</th>\n",
       "      <td>4</td>\n",
       "      <td>4</td>\n",
       "      <td>2</td>\n",
       "      <td>2</td>\n",
       "      <td>3</td>\n",
       "      <td>3</td>\n",
       "    </tr>\n",
       "  </tbody>\n",
       "</table>\n",
       "</div>"
      ],
      "text/plain": [
       "      buying  maint  doors  persons  lug_boot  safety\n",
       "192        1      2      4        1         2       2\n",
       "333        1      4      1        2         1       2\n",
       "1420       4      2      1        2         3       3\n",
       "1259       3      4      3        3         1       1\n",
       "1407       4      2      1        1         2       2\n",
       "681        2      3      2        1         3       2\n",
       "1055       3      2      4        1         2       1\n",
       "582        2      2      2        2         3       2\n",
       "1591       4      3      3        3         3       3\n",
       "1663       4      4      2        2         3       3"
      ]
     },
     "execution_count": 5,
     "metadata": {},
     "output_type": "execute_result"
    }
   ],
   "source": [
    "#splitting to training and test sets\n",
    "from sklearn.model_selection import train_test_split\n",
    "Xtrain, Xtest, ytrain, ytest = train_test_split(atts, target, test_size = 0.3)\n",
    "Xtrain.head(10)"
   ]
  },
  {
   "cell_type": "code",
   "execution_count": 6,
   "metadata": {},
   "outputs": [
    {
     "data": {
      "text/plain": [
       "192     1\n",
       "333     1\n",
       "1420    4\n",
       "1259    1\n",
       "1407    1\n",
       "681     1\n",
       "1055    1\n",
       "582     2\n",
       "1591    4\n",
       "1663    4\n",
       "Name: classes, dtype: int64"
      ]
     },
     "execution_count": 6,
     "metadata": {},
     "output_type": "execute_result"
    }
   ],
   "source": [
    "ytrain.head(10)\n"
   ]
  },
  {
   "cell_type": "code",
   "execution_count": 8,
   "metadata": {},
   "outputs": [
    {
     "data": {
      "text/plain": [
       "DecisionTreeClassifier(random_state=1)"
      ]
     },
     "execution_count": 8,
     "metadata": {},
     "output_type": "execute_result"
    }
   ],
   "source": [
    "#importing the Decision Tree Classifier\n",
    "from sklearn.tree import DecisionTreeClassifier as dt\n",
    "dt_model = dt(random_state=1)\n",
    "dt_model.fit(Xtrain, ytrain)"
   ]
  },
  {
   "cell_type": "code",
   "execution_count": 9,
   "metadata": {},
   "outputs": [
    {
     "data": {
      "text/plain": [
       "array([1, 1, 1, 1, 1, 1, 2, 1, 1, 2, 1, 1, 1, 1, 1, 3, 4, 1, 1, 1, 2, 1,\n",
       "       3, 1, 1, 2, 1, 1, 1, 1, 1, 1, 2, 1, 2, 1, 1, 4, 1, 2, 1, 1, 1, 2,\n",
       "       2, 1, 2, 1, 1, 2, 1, 2, 1, 1, 4, 2, 2, 1, 2, 3, 1, 4, 1, 1, 1, 1,\n",
       "       2, 4, 3, 1, 4, 1, 2, 2, 1, 4, 1, 1, 1, 1, 1, 1, 2, 2, 2, 2, 2, 1,\n",
       "       1, 2, 2, 2, 1, 1, 4, 4, 1, 1, 2, 1, 3, 1, 1, 1, 1, 1, 4, 1, 1, 1,\n",
       "       1, 1, 1, 1, 1, 1, 1, 1, 3, 1, 2, 2, 1, 2, 1, 1, 2, 1, 1, 2, 1, 2,\n",
       "       1, 1, 1, 1, 2, 1, 1, 2, 1, 1, 1, 1, 2, 2, 1, 1, 1, 2, 1, 1, 1, 1,\n",
       "       1, 1, 1, 4, 1, 1, 1, 1, 1, 1, 1, 2, 1, 1, 1, 1, 1, 1, 2, 3, 1, 1,\n",
       "       2, 1, 1, 1, 2, 1, 2, 1, 1, 1, 3, 1, 1, 1, 1, 1, 1, 2, 1, 1, 3, 2,\n",
       "       1, 1, 4, 1, 1, 2, 1, 1, 1, 2, 1, 1, 2, 1, 1, 1, 3, 2, 2, 1, 2, 1,\n",
       "       1, 2, 1, 2, 3, 1, 2, 1, 1, 3, 1, 1, 1, 1, 2, 2, 3, 1, 2, 1, 2, 1,\n",
       "       1, 1, 1, 1, 1, 1, 1, 1, 1, 1, 1, 1, 1, 1, 1, 1, 1, 1, 2, 3, 1, 1,\n",
       "       1, 1, 1, 1, 2, 1, 1, 2, 1, 2, 1, 1, 1, 4, 1, 1, 1, 2, 2, 1, 1, 2,\n",
       "       1, 1, 2, 1, 1, 2, 1, 2, 1, 2, 2, 1, 1, 2, 1, 2, 1, 1, 1, 1, 2, 3,\n",
       "       1, 1, 1, 1, 2, 2, 1, 1, 1, 1, 2, 1, 1, 1, 2, 1, 1, 1, 2, 1, 1, 1,\n",
       "       1, 1, 2, 1, 3, 1, 1, 1, 1, 1, 1, 1, 1, 2, 1, 2, 2, 1, 2, 1, 1, 1,\n",
       "       3, 1, 1, 2, 1, 4, 1, 1, 1, 1, 1, 2, 1, 1, 1, 3, 1, 2, 1, 1, 1, 1,\n",
       "       1, 4, 1, 2, 1, 3, 1, 1, 2, 1, 1, 1, 2, 4, 2, 1, 1, 1, 3, 1, 1, 2,\n",
       "       1, 2, 1, 1, 1, 1, 2, 1, 1, 1, 2, 1, 2, 1, 1, 1, 4, 1, 1, 1, 1, 2,\n",
       "       1, 1, 1, 1, 1, 1, 1, 1, 1, 2, 1, 1, 1, 2, 1, 1, 2, 1, 1, 1, 1, 1,\n",
       "       2, 2, 1, 1, 2, 1, 1, 1, 1, 1, 2, 2, 1, 1, 1, 2, 1, 1, 1, 1, 1, 1,\n",
       "       1, 2, 4, 1, 1, 1, 1, 2, 3, 1, 2, 1, 1, 1, 1, 1, 2, 1, 1, 2, 2, 1,\n",
       "       2, 2, 1, 1, 1, 2, 1, 1, 1, 1, 2, 1, 3, 2, 2, 2, 2, 1, 1, 1, 2, 2,\n",
       "       1, 2, 1, 2, 1, 1, 2, 2, 2, 1, 2, 4, 1], dtype=int64)"
      ]
     },
     "execution_count": 9,
     "metadata": {},
     "output_type": "execute_result"
    }
   ],
   "source": [
    "# testing DecisionTreeClassifier using Xtest and ytest\n",
    "ypredict = dt_model.predict(Xtest)\n",
    "ypredict"
   ]
  },
  {
   "cell_type": "code",
   "execution_count": 10,
   "metadata": {},
   "outputs": [
    {
     "data": {
      "text/plain": [
       "array([[344,   5,   2,   0],\n",
       "       [  6, 119,   0,   0],\n",
       "       [  1,   3,  20,   0],\n",
       "       [  0,   0,   0,  19]], dtype=int64)"
      ]
     },
     "execution_count": 10,
     "metadata": {},
     "output_type": "execute_result"
    }
   ],
   "source": [
    "#Classification model evaluation\n",
    "\n",
    "from sklearn import metrics\n",
    "\n",
    "#Confusion matrix\n",
    "\n",
    "cm = metrics.confusion_matrix(ytest, ypredict)\n",
    "cm"
   ]
  },
  {
   "cell_type": "code",
   "execution_count": 11,
   "metadata": {},
   "outputs": [
    {
     "data": {
      "text/plain": [
       "0.9672447013487476"
      ]
     },
     "execution_count": 11,
     "metadata": {},
     "output_type": "execute_result"
    }
   ],
   "source": [
    "#accuracy\n",
    "acc = metrics.accuracy_score(ytest, ypredict)\n",
    "acc"
   ]
  },
  {
   "cell_type": "code",
   "execution_count": 12,
   "metadata": {},
   "outputs": [
    {
     "name": "stderr",
     "output_type": "stream",
     "text": [
      "C:\\Users\\hp\\anaconda3\\lib\\site-packages\\sklearn\\metrics\\_classification.py:1267: UserWarning: Note that pos_label (set to 'positive') is ignored when average != 'binary' (got 'micro'). You may use labels=[pos_label] to specify a single positive class.\n",
      "  warnings.warn(\"Note that pos_label (set to %r) is ignored when \"\n"
     ]
    },
    {
     "data": {
      "text/plain": [
       "0.9672447013487476"
      ]
     },
     "execution_count": 12,
     "metadata": {},
     "output_type": "execute_result"
    }
   ],
   "source": [
    "#presicion metric\n",
    "\n",
    "pre = metrics.precision_score(ytest, ypredict, pos_label='positive' ,average='micro')\n",
    "pre"
   ]
  },
  {
   "cell_type": "code",
   "execution_count": 13,
   "metadata": {},
   "outputs": [
    {
     "data": {
      "text/plain": [
       "0.9672447013487476"
      ]
     },
     "execution_count": 13,
     "metadata": {},
     "output_type": "execute_result"
    }
   ],
   "source": [
    "#recall\n",
    "\n",
    "recall = metrics.recall_score(ytest, ypredict, pos_label='positive' ,average='micro')\n",
    "recall"
   ]
  },
  {
   "cell_type": "code",
   "execution_count": 14,
   "metadata": {},
   "outputs": [
    {
     "data": {
      "text/plain": [
       "0.9672447013487476"
      ]
     },
     "execution_count": 14,
     "metadata": {},
     "output_type": "execute_result"
    }
   ],
   "source": [
    "#F1 metric\n",
    "\n",
    "f1 = metrics.f1_score(ytest, ypredict, pos_label='positive' ,average='micro')\n",
    "f1"
   ]
  },
  {
   "cell_type": "code",
   "execution_count": 15,
   "metadata": {},
   "outputs": [
    {
     "data": {
      "text/plain": [
       "'              precision    recall  f1-score   support\\n\\n           1       0.98      0.98      0.98       351\\n           2       0.94      0.95      0.94       125\\n           3       0.91      0.83      0.87        24\\n           4       1.00      1.00      1.00        19\\n\\n    accuracy                           0.97       519\\n   macro avg       0.96      0.94      0.95       519\\nweighted avg       0.97      0.97      0.97       519\\n'"
      ]
     },
     "execution_count": 15,
     "metadata": {},
     "output_type": "execute_result"
    }
   ],
   "source": [
    "#classification report: all of the evaluation results crammed into one report\n",
    "\n",
    "cls_rep = metrics.classification_report(ytest, ypredict)\n",
    "cls_rep"
   ]
  },
  {
   "cell_type": "code",
   "execution_count": null,
   "metadata": {},
   "outputs": [],
   "source": []
  }
 ],
 "metadata": {
  "kernelspec": {
   "display_name": "Python 3",
   "language": "python",
   "name": "python3"
  },
  "language_info": {
   "codemirror_mode": {
    "name": "ipython",
    "version": 3
   },
   "file_extension": ".py",
   "mimetype": "text/x-python",
   "name": "python",
   "nbconvert_exporter": "python",
   "pygments_lexer": "ipython3",
   "version": "3.8.5"
  }
 },
 "nbformat": 4,
 "nbformat_minor": 4
}
